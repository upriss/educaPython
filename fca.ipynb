{
 "cells": [
  {
   "cell_type": "markdown",
   "id": "61001cd4-39fd-4564-83c5-f79ca5da8158",
   "metadata": {
    "tags": []
   },
   "source": [
    "<h2>How to use this notebook</h2>\n",
    "\n",
    "This Jupyter notebook contains text cells and code cells.\n",
    "Code cells have a number on the left <b>[..]</b> and can be executed with <b>SHIFT-ENTER</b>. The sequence of code cells is relevant. Some cells can only be executed after cells above have been executed.\n",
    "\n",
    "Notebooks on Mybinder are automatically deleted after 10 min of inactivity, but they can be downloaded in a variety of formats. \n",
    "\n",
    "The next cell installs components that are needed for this notebook and should be executed once after the notebook has been opened. The FCA software used was written by Sebastian Bank.\n"
   ]
  },
  {
   "cell_type": "code",
   "execution_count": 66,
   "id": "e3f3b43f-7544-4ce3-8f61-59e9cc636827",
   "metadata": {},
   "outputs": [
    {
     "name": "stdout",
     "output_type": "stream",
     "text": [
      "Requirement already satisfied: concepts in /usr/local/lib/python3.9/site-packages (0.9.2)\n",
      "Requirement already satisfied: graphviz~=0.7 in /usr/local/lib/python3.9/site-packages (from concepts) (0.20.1)\n",
      "Requirement already satisfied: bitsets~=0.7 in /usr/local/lib/python3.9/site-packages (from concepts) (0.8.4)\n"
     ]
    }
   ],
   "source": [
    "!pip install concepts\n",
    "from concepts import *\n",
    "import fcasetup"
   ]
  },
  {
   "cell_type": "markdown",
   "id": "8f0428a4-e17a-4b07-94e9-64a86aec20e0",
   "metadata": {},
   "source": [
    "<h2>FCA Tutorial</h2>\n",
    "\n",
    "Formal Concept Analysis starts with the notion of a <i>formal context</i> that is defined as a triple $(O,A,I)$ where $O$ is a set of <i>formal objects</i>\n",
    "$A$ is a set of <i>formal attributes</i> and $I$ (for <i>incidence</i> is a\n",
    "binary relation between $O$ and $A$ with $oIa$ denoting\n",
    "\"object $o$ has attribute $a$\". In programming languages it is better to use arrays than sets and an array of tuples for the binary relation."
   ]
  },
  {
   "cell_type": "code",
   "execution_count": 67,
   "id": "b6668cd7-d433-429f-ac58-2b6afa0c0e68",
   "metadata": {},
   "outputs": [],
   "source": [
    "objects = (\"a\", \"b\", \"c\")\n",
    "attributes = (\"1\", \"2\", \"3\")\n",
    "incidence =  [(True, False, False), \n",
    "              (False, True, True), \n",
    "              (True, False, False)]\n",
    "ctx = Context(objects, attributes, incidence)\n",
    "\n",
    "ctx2 = make_context('''\n",
    "     |male|female|adult|child|\n",
    "man  |  X |      |  X  |     |\n",
    "woman|    |   X  |  X  |     |\n",
    "boy  |  X |      |     |  X  |\n",
    "girl |    |   X  |     |  X  |\n",
    "''')  \n"
   ]
  },
  {
   "cell_type": "markdown",
   "id": "6bf5309a-b81b-4f75-a874-77a9774c8741",
   "metadata": {},
   "source": [
    "The <i>prime-operator</i>\n",
    "yields all common attributes of a set of objects $X \\subseteq O$,\n",
    "$ X':= \\{a \\in A \\mid oIa \\mbox{ for all } o \\in X \\} $\n",
    "or all common objects of a set of attributes $Y \\subseteq M$,\n",
    "$ Y':= \\{o \\in O \\mid oIa \\mbox{ for all } a \\in Y \\} $."
   ]
  },
  {
   "cell_type": "code",
   "execution_count": 68,
   "id": "9a9dc2a7-50b1-458b-b9e4-b682f3189bab",
   "metadata": {},
   "outputs": [
    {
     "data": {
      "text/plain": [
       "('b',)"
      ]
     },
     "execution_count": 68,
     "metadata": {},
     "output_type": "execute_result"
    },
    {
     "data": {
      "text/plain": [
       "('2', '3')"
      ]
     },
     "execution_count": 68,
     "metadata": {},
     "output_type": "execute_result"
    },
    {
     "data": {
      "text/plain": [
       "('1',)"
      ]
     },
     "execution_count": 68,
     "metadata": {},
     "output_type": "execute_result"
    },
    {
     "data": {
      "text/plain": [
       "('1',)"
      ]
     },
     "execution_count": 68,
     "metadata": {},
     "output_type": "execute_result"
    }
   ],
   "source": [
    "ctx.extension({\"2\",\"3\"})\n",
    "ctx.intension(\"b\")\n",
    "ctx.intension(\"a\")\n",
    "ctx.intension({\"a\", \"c\"})"
   ]
  },
  {
   "cell_type": "markdown",
   "id": "3a03f662-d5d8-4bd4-9bef-50e52c43452c",
   "metadata": {},
   "source": [
    "A pair $(X,Y)$ is said to be a <i>formal concept</i> of the context $(O,A,I)$\n",
    "if $X \\subseteq O, Y \\subseteq A, X=Y'$, and $ Y=X'$.\n",
    "If $(X,Y)$ is a concept, then $X$ is called the <i>extent</i>, $Y$ is called the\n",
    "<i>intent</i> of the concept.\n"
   ]
  },
  {
   "cell_type": "code",
   "execution_count": 69,
   "id": "10ff12d8-2b79-4a60-8c73-3bbae05933f1",
   "metadata": {},
   "outputs": [
    {
     "data": {
      "text/plain": [
       "(('b',), ('2', '3'))"
      ]
     },
     "execution_count": 69,
     "metadata": {},
     "output_type": "execute_result"
    },
    {
     "data": {
      "text/plain": [
       "(('a', 'c'), ('1',))"
      ]
     },
     "execution_count": 69,
     "metadata": {},
     "output_type": "execute_result"
    }
   ],
   "source": [
    "ctx.__getitem__(\"2\")\n",
    "ctx.__getitem__(\"a\")"
   ]
  },
  {
   "cell_type": "markdown",
   "id": "4b135f84-00db-4c86-bf58-ccbbbbce2306",
   "metadata": {},
   "source": [
    "The set of all concepts of $(O,A,I)$ is denoted by\n",
    "${\\cal B}(O,A,I)$"
   ]
  },
  {
   "cell_type": "code",
   "execution_count": 70,
   "id": "136315d2-05de-4c0e-89c1-2b381d70bce4",
   "metadata": {},
   "outputs": [
    {
     "data": {
      "image/svg+xml": [
       "<?xml version=\"1.0\" encoding=\"UTF-8\" standalone=\"no\"?>\n",
       "<!DOCTYPE svg PUBLIC \"-//W3C//DTD SVG 1.1//EN\"\n",
       " \"http://www.w3.org/Graphics/SVG/1.1/DTD/svg11.dtd\">\n",
       "<!-- Generated by graphviz version 6.0.1 (20220911.1526)\n",
       " -->\n",
       "<!-- Title: Lattice Pages: 1 -->\n",
       "<svg width=\"134pt\" height=\"208pt\"\n",
       " viewBox=\"0.00 0.00 134.00 208.00\" xmlns=\"http://www.w3.org/2000/svg\" xmlns:xlink=\"http://www.w3.org/1999/xlink\">\n",
       "<g id=\"graph0\" class=\"graph\" transform=\"scale(1 1) rotate(0) translate(4 204)\">\n",
       "<title>Lattice</title>\n",
       "<polygon fill=\"white\" stroke=\"none\" points=\"-4,4 -4,-204 130,-204 130,4 -4,4\"/>\n",
       "<!-- c0 -->\n",
       "<g id=\"node1\" class=\"node\">\n",
       "<title>c0</title>\n",
       "<ellipse fill=\"lightgrey\" stroke=\"black\" cx=\"45\" cy=\"-9\" rx=\"9\" ry=\"9\"/>\n",
       "</g>\n",
       "<!-- c1 -->\n",
       "<g id=\"node2\" class=\"node\">\n",
       "<title>c1</title>\n",
       "<ellipse fill=\"lightgrey\" stroke=\"black\" cx=\"9\" cy=\"-100\" rx=\"9\" ry=\"9\"/>\n",
       "</g>\n",
       "<!-- c1&#45;&gt;c0 -->\n",
       "<g id=\"edge3\" class=\"edge\">\n",
       "<title>c1&#45;&gt;c0</title>\n",
       "<path fill=\"none\" stroke=\"black\" d=\"M12.07,-91.41C18.87,-74.6 35.14,-34.37 41.94,-17.57\"/>\n",
       "</g>\n",
       "<!-- c1&#45;&gt;c1 -->\n",
       "<g id=\"edge1\" class=\"edge\">\n",
       "<title>c1&#45;&gt;c1</title>\n",
       "<path fill=\"none\" stroke=\"none\" d=\"M17.57,-103.33C26.29,-105.29 36,-104.18 36,-100 36,-95.82 26.29,-94.71 17.57,-96.67\"/>\n",
       "<text text-anchor=\"middle\" x=\"14.8\" y=\"-78.23\" font-family=\"Times,serif\" font-size=\"14.00\">b</text>\n",
       "</g>\n",
       "<!-- c1&#45;&gt;c1 -->\n",
       "<g id=\"edge2\" class=\"edge\">\n",
       "<title>c1&#45;&gt;c1</title>\n",
       "<path fill=\"none\" stroke=\"none\" d=\"M16.96,-104.5C32.64,-111.1 54,-109.6 54,-100 54,-90.4 32.64,-88.9 16.96,-95.5\"/>\n",
       "<text text-anchor=\"middle\" x=\"11.9\" y=\"-114.92\" font-family=\"Times,serif\" font-size=\"14.00\">2 3</text>\n",
       "</g>\n",
       "<!-- c2 -->\n",
       "<g id=\"node3\" class=\"node\">\n",
       "<title>c2</title>\n",
       "<ellipse fill=\"lightgrey\" stroke=\"black\" cx=\"81\" cy=\"-100\" rx=\"9\" ry=\"9\"/>\n",
       "</g>\n",
       "<!-- c2&#45;&gt;c0 -->\n",
       "<g id=\"edge6\" class=\"edge\">\n",
       "<title>c2&#45;&gt;c0</title>\n",
       "<path fill=\"none\" stroke=\"black\" d=\"M77.93,-91.41C71.13,-74.6 54.86,-34.37 48.06,-17.57\"/>\n",
       "</g>\n",
       "<!-- c2&#45;&gt;c2 -->\n",
       "<g id=\"edge4\" class=\"edge\">\n",
       "<title>c2&#45;&gt;c2</title>\n",
       "<path fill=\"none\" stroke=\"none\" d=\"M89.57,-103.33C98.29,-105.29 108,-104.18 108,-100 108,-95.82 98.29,-94.71 89.57,-96.67\"/>\n",
       "<text text-anchor=\"middle\" x=\"86.8\" y=\"-78.23\" font-family=\"Times,serif\" font-size=\"14.00\">a c</text>\n",
       "</g>\n",
       "<!-- c2&#45;&gt;c2 -->\n",
       "<g id=\"edge5\" class=\"edge\">\n",
       "<title>c2&#45;&gt;c2</title>\n",
       "<path fill=\"none\" stroke=\"none\" d=\"M88.96,-104.5C104.64,-111.1 126,-109.6 126,-100 126,-90.4 104.64,-88.9 88.96,-95.5\"/>\n",
       "<text text-anchor=\"middle\" x=\"83.9\" y=\"-114.92\" font-family=\"Times,serif\" font-size=\"14.00\">1</text>\n",
       "</g>\n",
       "<!-- c3 -->\n",
       "<g id=\"node4\" class=\"node\">\n",
       "<title>c3</title>\n",
       "<ellipse fill=\"lightgrey\" stroke=\"black\" cx=\"45\" cy=\"-191\" rx=\"9\" ry=\"9\"/>\n",
       "</g>\n",
       "<!-- c3&#45;&gt;c1 -->\n",
       "<g id=\"edge7\" class=\"edge\">\n",
       "<title>c3&#45;&gt;c1</title>\n",
       "<path fill=\"none\" stroke=\"black\" d=\"M41.93,-182.41C35.13,-165.6 18.86,-125.37 12.06,-108.57\"/>\n",
       "</g>\n",
       "<!-- c3&#45;&gt;c2 -->\n",
       "<g id=\"edge8\" class=\"edge\">\n",
       "<title>c3&#45;&gt;c2</title>\n",
       "<path fill=\"none\" stroke=\"black\" d=\"M48.07,-182.41C54.87,-165.6 71.14,-125.37 77.94,-108.57\"/>\n",
       "</g>\n",
       "</g>\n",
       "</svg>\n"
      ],
      "text/plain": [
       "<graphviz.graphs.Digraph at 0x115258c10>"
      ]
     },
     "execution_count": 70,
     "metadata": {},
     "output_type": "execute_result"
    }
   ],
   "source": [
    "ctx.lattice.graphviz()"
   ]
  },
  {
   "cell_type": "code",
   "execution_count": null,
   "id": "655352e0-883f-480f-96e0-2d5faa9963a1",
   "metadata": {},
   "outputs": [],
   "source": []
  }
 ],
 "metadata": {
  "kernelspec": {
   "display_name": "Python 3 (ipykernel)",
   "language": "python",
   "name": "python3"
  },
  "language_info": {
   "codemirror_mode": {
    "name": "ipython",
    "version": 3
   },
   "file_extension": ".py",
   "mimetype": "text/x-python",
   "name": "python",
   "nbconvert_exporter": "python",
   "pygments_lexer": "ipython3",
   "version": "3.10.8"
  }
 },
 "nbformat": 4,
 "nbformat_minor": 5
}
