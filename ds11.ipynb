{
 "cells": [
  {
   "cell_type": "markdown",
   "id": "e5de895b",
   "metadata": {},
   "source": [
    "<h1> Interaktive Folien </h1>\n",
    "\n",
    "Diese Folien sind als Jupyter-Notebook erstellt. Die Felder, bei denen links <b>In [..]</b> steht, können Sie ausführen. Klicken Sie dazu in das Feld und dann <b>SHIFT-ENTER</b>. Probieren Sie es im Feld gleich unter diesem Text. Es müsste dann \"OK\" erscheinen.\n",
    "\n",
    "Die verwendete Programmiersprache ist nicht SetlX sondern Python. Aber die Operationen, die in diesen Folien verwendet werden, sind in beiden Sprachen gleich.\n",
    "\n",
    "Sie können die Folien selber editieren. Mit <b>ESC a m</b> können Sie ein Feld für Notizen über dem derzeit aktiven Feld erstellen. Wenn Sie versehentlich ein Feld löschen, gibt es ein Undo Delete Cells im Edit-Reiter.\n",
    "\n",
    "Achtung: die Folien werden nach 10 Minuten <b>automatisch gelöscht</b>, wenn Sie dies Fenster nicht aktiv verwenden. Das Fenster im Vordergrund zu lassen, sollte ausreichen.\n",
    "\n",
    "Zum Schluss können Sie sich die Folien als <b>PDF herunterladen</b>.\n"
   ]
  },
  {
   "cell_type": "code",
   "execution_count": 6,
   "id": "604857f2",
   "metadata": {},
   "outputs": [
    {
     "name": "stdout",
     "output_type": "stream",
     "text": [
      "OK\n"
     ]
    }
   ],
   "source": [
    "from exercises11 import *\n",
    "print(\"OK\")"
   ]
  },
  {
   "cell_type": "markdown",
   "id": "f4884c7b",
   "metadata": {},
   "source": [
    "<hr style=\"border: 1px dotted blue;\">\n",
    "\n",
    "<h1>Klausurrelevante Themen diese Woche</h1>\n",
    "\n",
    "<ul>\n",
    "    <li>Begriffe: Modulo, Restklasse</li>\n",
    "    <li>Lösen von Gleichungen mit modularer Arithmetik</li>\n",
    "</ul>\n",
    "\n",
    "<br><br><br><br><hr style=\"border: 1px dotted blue;\">\n",
    "\n",
    "<h1>Ihre Fragen</h1>\n",
    "\n",
    "<ul>\n",
    "<li> Kontrollfragen 1, 2 und 5\n",
    "<li> Lehrbuch: Beispiel 11.19\n",
    "<li> Definition der Restklasse, Unterschied zu Äquivalenzklasse\n",
    "<li> Modulo von negativen Zahlen\n",
    "<li> Inverse Elemente\n",
    "<li> Ist $z^{-1}$ ein Bruch?\n",
    "</ul>\n",
    "\n",
    "<br><hr style=\"border: 1px dotted blue;\">\n",
    "\n",
    "<h1>Modulare Arithmetik</h1>\n",
    "\n",
    "<h4>Definitionen</h4>\n",
    "\n",
    "Def: Die Menge $r + m \\mathbb{Z} = \\{ r + mq \\mid q \\in \\mathbb{Z}\\}$ wird als Restklasse modulo $m$ für den Rest r bezeichnet.\n",
    "\n",
    "Def: Zwei ganze Zahlen a, b sind kongruent modulo m, wenn sie bei Division\n",
    "durch m denselben Rest haben. Man schreibt dafür $a \\equiv b ($mod $m)$\n",
    "\n",
    "Def: $\\mathbb{Z}_m$ ist die Menge der möglichen Reste Modulo $m$.\n",
    "\n",
    "<hr style=\"border: 1px dotted blue;\">\n",
    "\n",
    "<h4>Aufgabe: Restklassen</h4>\n",
    "\n",
    "Bestimmen Sie die Restklassen der Kongruenz modulo 3 für die Werte von -5 bis +5 (einschließlich). Bestimmen Sie außerdem die Anzahl der Elemente in $\\mathbb{Z}_3$. Ersetzen Sie dafür den String \"TODO\" im folgenden Feld und ändern Sie sonst nichts."
   ]
  },
  {
   "cell_type": "code",
   "execution_count": 7,
   "id": "b1714b3a",
   "metadata": {},
   "outputs": [
    {
     "ename": "NameError",
     "evalue": "name 'TODO' is not defined",
     "output_type": "error",
     "traceback": [
      "\u001b[0;31m---------------------------------------------------------------------------\u001b[0m",
      "\u001b[0;31mNameError\u001b[0m                                 Traceback (most recent call last)",
      "Cell \u001b[0;32mIn[7], line 1\u001b[0m\n\u001b[0;32m----> 1\u001b[0m restklasse1 \u001b[38;5;241m==\u001b[39m {\u001b[38;5;241m-\u001b[39m\u001b[38;5;241m4\u001b[39m, \u001b[43mTODO\u001b[49m}\n\u001b[1;32m      2\u001b[0m restklasse2 \u001b[38;5;241m==\u001b[39m {\u001b[38;5;241m-\u001b[39m\u001b[38;5;241m3\u001b[39m, TODO}\n\u001b[1;32m      3\u001b[0m restklasse3 \u001b[38;5;241m==\u001b[39m {\u001b[38;5;241m-\u001b[39m\u001b[38;5;241m5\u001b[39m, TODO}\n",
      "\u001b[0;31mNameError\u001b[0m: name 'TODO' is not defined"
     ]
    }
   ],
   "source": [
    "restklasse1 == {-4, TODO}\n",
    "restklasse2 == {-3, TODO}\n",
    "restklasse3 == {-5, TODO}\n",
    "Anzahl_Elemente_in_Z3 == TODO"
   ]
  },
  {
   "cell_type": "markdown",
   "id": "4d768429",
   "metadata": {},
   "source": [
    "<hr style=\"border: 1px dotted blue;\">\n",
    "\n",
    "<h4>Aufgabe: Rechnen in $\\mathbb{Z}_m$</h4>\n",
    "\n",
    "Kann man in $\\mathbb{Z}_m$ genauso rechnen wie in $\\mathbb{Z}$?\n",
    "\n",
    "\n",
    "Überlegen Sie sich welche Operationen Addition, Subtraktion usw. in $\\mathbb{Z}_m$ definiert sind.\n"
   ]
  },
  {
   "cell_type": "markdown",
   "id": "f0ddf6ee",
   "metadata": {},
   "source": [
    "Ihre Notizen:"
   ]
  },
  {
   "cell_type": "markdown",
   "id": "13c5f3ac",
   "metadata": {},
   "source": [
    "\n",
    "<br><br><hr style=\"border: 1px dotted blue;\">\n",
    "<h4>Abstimmen: Division?</h4>\n",
    "\n",
    "Was bedeutet $\\frac{1}{6} (mod 5)$\n",
    "<p>\n",
    "\n",
    "<ul>\n",
    "<li> A) Man teilt 1 durch 6 und nimmt das dann modulo 5\n",
    "<li> B) Man berechnet 1 und 6 jeweils modulo 5 und dividiert anschließend\n",
    "<li> C) Man berechnet das multiplikative Inverse von 2 in $Z_5$\n",
    "<li> D) Weder noch\n",
    "</ul>\n",
    "\n",
    "<p>\n",
    "(Anmerkung: $n^{-1} = 1/n$ sind nur unterschiedliche Schreibweisen)"
   ]
  },
  {
   "cell_type": "markdown",
   "id": "fd8a153a",
   "metadata": {},
   "source": [
    "[Abstimmen](https://moodle.ostfalia.de/mod/realtimequiz/view.php?id=244046)"
   ]
  },
  {
   "cell_type": "code",
   "execution_count": null,
   "id": "ac943b97",
   "metadata": {},
   "outputs": [],
   "source": [
    "(1/6) % 5\n",
    "(1%5)/(6%5)\n",
    "multInv(6,5)"
   ]
  },
  {
   "cell_type": "markdown",
   "id": "128c8170",
   "metadata": {},
   "source": [
    "<hr style=\"border: 1px dotted blue;\">\n",
    "\n",
    "<h1>Inverse Elemente</h1>\n",
    "\n",
    "<h4>Aufgabe: Inverse Elemente</h4>\n",
    "\n",
    "Wie berechnet man additive und multiplikative inverse Elemente? Bestimmen Sie einige Werte (zB -4 (mod 5), -4 (mod 4), -4 (mod 3), $2^{-1}$ (mod 5), $2^{-1}$ (mod 4)$, $2^{-1}$ (mod 3)$, $3^{-1}$ (mod 5)). Sie können Ihre Werte mit <b>addInv(4,5), multInv(2,5)</b> usw überprüfen. Beschreiben Sie, wie man die Inversen jeweils bestimmen kann.\n"
   ]
  },
  {
   "cell_type": "code",
   "execution_count": null,
   "id": "3a75fd5c",
   "metadata": {},
   "outputs": [],
   "source": [
    "-4 % 5  \n",
    "-4 % 4 \n",
    "-4 % 3 \n"
   ]
  },
  {
   "cell_type": "markdown",
   "id": "1c2eae74",
   "metadata": {},
   "source": [
    "Ihre Notizen:\n"
   ]
  },
  {
   "cell_type": "markdown",
   "id": "e36dcdb1",
   "metadata": {},
   "source": [
    "<hr style=\"border: 1px dotted blue;\">\n",
    "\n",
    "<h4>Aufgabe: was bedeutet \"invers\"?</h4>\n",
    "\n",
    "Für welche Operationen haben Sie bisher inverse Elemente kennengelernt:\n"
   ]
  },
  {
   "cell_type": "markdown",
   "id": "17ba97dc",
   "metadata": {},
   "source": [
    "Ihre Notizen:"
   ]
  },
  {
   "cell_type": "markdown",
   "id": "056c343c",
   "metadata": {},
   "source": [
    "Schreiben Sie einen Satz in natürlicher Sprache, der allgemein definiert, was ein inverses Element ist\n",
    "(Verwenden Sie dabei das Wort \"verknüpfen\" (oder \"Verknüpfung\") anstatt \"addieren\", \"multiplizieren\", \"Komposition bilden\" oder ähnlich.):\n"
   ]
  },
  {
   "cell_type": "markdown",
   "id": "435e6174",
   "metadata": {},
   "source": [
    "Ihre Notizen:"
   ]
  },
  {
   "cell_type": "markdown",
   "id": "e231b2f2",
   "metadata": {},
   "source": [
    "\n",
    "<hr style=\"border: 1px dotted blue;\">\n",
    "\n",
    "<h4>Aufgabe: multiplikative Inverse bestimmen</h4>\n",
    "\n",
    "Bestimmen Sie die multiplikativen Inversen in $\\mathbb{Z}_6$ und in $\\mathbb{Z}_5$.\n",
    "\n",
    "Tipp: Bestimmen durch Ausprobieren ist hierbei ok!\n"
   ]
  },
  {
   "cell_type": "markdown",
   "id": "098b522e",
   "metadata": {},
   "source": [
    "$Z_6$:\n",
    "\n",
    "| $z$      | 0 | 1 | 2 | 3 | 4 | 5 |\n",
    "| ---      |---|---|---|---|---|---|\n",
    "| $z^{-1}$ |   |   |   |   |   |   |\n",
    "\n",
    "\n",
    "$Z_5$:\n",
    "\n",
    "| $z$      | 0 | 1 | 2 | 3 | 4 |\n",
    "| ---      |---|---|---|---|---|\n",
    "| $z^{-1}$ |   |   |   |   |   |\n"
   ]
  },
  {
   "cell_type": "markdown",
   "id": "3c584a36",
   "metadata": {},
   "source": [
    "<hr style=\"border: 1px dotted blue;\">\n",
    "\n",
    "<h4>Umkehrbar, ohne einfache Formel</h4>\n",
    "\n",
    "Welche anderen Operationen haben Sie vor kurzem kennengelernt, die\n",
    "eine umkehrbare Funktion darstellen, für die es keine einfache\n",
    "Formel gibt, mit der man die Umkehrung ausrechnen kann?"
   ]
  },
  {
   "cell_type": "markdown",
   "id": "ca9129f3",
   "metadata": {},
   "source": [
    "Ihre Notizen:"
   ]
  },
  {
   "cell_type": "markdown",
   "id": "3e23fb9f",
   "metadata": {},
   "source": [
    "<hr style=\"border: 1px dotted blue;\">\n",
    "\n",
    "<h1>Kongruenz</h1>\n",
    "\n",
    "Restklasse und Äquivalenzklasse,\n",
    "Kongruenz und Äquivalenz\n",
    "\n",
    "Beschreiben Sie:\n",
    "\n",
    "<ul>\n",
    "<li> Zusammenhang Modulo-Operation und Kongruenzrelation\n",
    "<li> Welche Eigenschaften hat die Kongruenzrelation\n",
    "<li> Zusammenhang mit der geometrischen Kongruenz?\n",
    "</ul>\n",
    "\n",
    "Welche Beziehung besteht zwischen Restklasse und Äquivalenzklasse?\n",
    "\n",
    "Welche Beziehung besteht zwischen Kongruenz und Äquivalenz?"
   ]
  },
  {
   "cell_type": "markdown",
   "id": "c70a321e",
   "metadata": {},
   "source": [
    "Ihre Notizen:"
   ]
  },
  {
   "cell_type": "markdown",
   "id": "b7815328",
   "metadata": {},
   "source": [
    "<hr style=\"border: 1px dotted blue;\">\n",
    "\n",
    "<h4>Kontrollfrage - Restklassen</h4>\n",
    "\n",
    "In dieser Aufgabe geht es um die Restklasse, in der 1 und 4 benachbarte Elemente sind.\n",
    "Benachbart bedeutet, dass es kein Restklassenelement n mit 1 $<$ n $<$ 4 gibt.\n",
    "\n",
    "Nennen Sie eine Zahl (verschieden von 1 und 4), die zur selben Restklasse gehört wie\n",
    "1 und 4.\n",
    "\n",
    "Nennen Sie eine negative Zahl, die zur selben Restklasse gehört wie 1 und 4."
   ]
  },
  {
   "cell_type": "markdown",
   "id": "d884f754",
   "metadata": {},
   "source": [
    "Ihre Notizen:"
   ]
  },
  {
   "cell_type": "markdown",
   "id": "ec29622e",
   "metadata": {},
   "source": [
    "<hr style=\"border: 1px dotted blue;\">\n",
    "\n",
    "<h4>Unterschiedliche Schreibweisen</h4>\n",
    "\n",
    "$(a + b) \\ \\% \\ 5 == c\\ \\%\\ 5$\n",
    "\n",
    "$a + b \\equiv c (\\mbox{mod } 5)$\n",
    "\n",
    "$a \\oplus_5 b = c$\n"
   ]
  },
  {
   "cell_type": "markdown",
   "id": "bfc7648e",
   "metadata": {},
   "source": [
    "<hr style=\"border: 1px dotted blue;\">\n",
    "\n",
    "<h1>Gleichungen lösen</h1>\n",
    "\n",
    "Wie löst man Gleichungen mit ganzen Zahlen?\n",
    "\n",
    "Wie löst man Gleichungen in $Z_m$?\n",
    "\n"
   ]
  },
  {
   "cell_type": "markdown",
   "id": "701a426d",
   "metadata": {},
   "source": [
    "Ihre Notizen:"
   ]
  },
  {
   "cell_type": "markdown",
   "id": "768d9817",
   "metadata": {},
   "source": [
    "<hr style=\"border: 1px dotted blue;\">\n",
    "\n",
    "Lösen Sie\n",
    "\n",
    "$14x +4 \\equiv 3$ (mod 5)\n",
    "\n",
    "$8x + 2 \\equiv 3$ (mod 3)\n",
    "\n",
    "$x^2 \\equiv 1$ (mod 15)\n"
   ]
  },
  {
   "cell_type": "markdown",
   "id": "228c889f",
   "metadata": {},
   "source": [
    "Ihre Notizen:"
   ]
  },
  {
   "cell_type": "markdown",
   "id": "230831e9",
   "metadata": {},
   "source": [
    "<hr style=\"border: 1px dotted blue;\">\n",
    "\n",
    "Schreiben Sie \"Kongruenz modulo m\" formal als Relation $R$, so dass\n",
    "$R$ Paare kongruenter Zahlen enthält.\n",
    "\n",
    "$R = \\{[a,b] : \\hspace{6cm} \\}$"
   ]
  },
  {
   "cell_type": "markdown",
   "id": "dace248f",
   "metadata": {},
   "source": [
    "Ihre Notizen:"
   ]
  },
  {
   "cell_type": "markdown",
   "id": "68524423",
   "metadata": {},
   "source": [
    "<hr style=\"border: 1px dotted blue;\">\n",
    "Überprüfen Sie, dass\n",
    "$a \\equiv b (\\mbox{mod } m) \\land c \\equiv d (\\mbox{mod } m)$\n",
    "$\\Longrightarrow a + c \\equiv b + d (\\mbox{mod } m)$\n",
    "\n",
    "$a = b + rm$\n",
    "$c = d + sm$\n"
   ]
  },
  {
   "cell_type": "markdown",
   "id": "f1672427",
   "metadata": {},
   "source": [
    "Ihre Notizen:"
   ]
  }
 ],
 "metadata": {
  "kernelspec": {
   "display_name": "Python 3 (ipykernel)",
   "language": "python",
   "name": "python3"
  },
  "language_info": {
   "codemirror_mode": {
    "name": "ipython",
    "version": 3
   },
   "file_extension": ".py",
   "mimetype": "text/x-python",
   "name": "python",
   "nbconvert_exporter": "python",
   "pygments_lexer": "ipython3",
   "version": "3.9.4"
  }
 },
 "nbformat": 4,
 "nbformat_minor": 5
}
