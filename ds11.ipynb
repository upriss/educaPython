{
 "cells": [
  {
   "cell_type": "markdown",
   "id": "e5de895b",
   "metadata": {},
   "source": [
    "<h1> Interaktive Folien </h1>\n",
    "\n",
    "Diese Folien sind als Jupyter-Notebook erstellt. Die Felder, bei denen links <b>In [..]</b> steht, können Sie ausführen. Klicken Sie dazu in das Feld und dann <b>SHIFT-ENTER</b>. Probieren Sie es im Feld gleich unter diesem Text. Es müsste dann \"OK\" erscheinen.\n",
    "\n",
    "Die verwendete Programmiersprache ist nicht SetlX sondern Python. Aber die Operationen, die in diesen Folien verwendet werden, sind in beiden Sprachen gleich.\n",
    "\n",
    "Sie können die Folien selber editieren. Mit <b>ESC a m</b> können Sie ein Feld für Notizen über dem derzeit aktiven Feld erstellen. Wenn Sie versehentlich ein Feld löschen, gibt es ein Undo Delete Cells im Edit-Reiter.\n",
    "\n",
    "Achtung: die Folien werden nach 10 Minuten <b>automatisch gelöscht</b>, wenn Sie dies Fenster nicht aktiv verwenden. Das Fenster im Vordergrund zu lassen, sollte ausreichen.\n",
    "\n",
    "Zum Schluss können Sie sich die Folien als <b>PDF herunterladen</b>.\n"
   ]
  },
  {
   "cell_type": "code",
   "execution_count": null,
   "id": "604857f2",
   "metadata": {},
   "outputs": [],
   "source": [
    "from exercises11 import *\n",
    "print(\"OK\")"
   ]
  },
  {
   "cell_type": "markdown",
   "id": "f4884c7b",
   "metadata": {},
   "source": [
    "<br><hr style=\"border: 1px dotted blue;\">\n",
    "\n",
    "<h1>Modulare Arithmetik</h1>\n",
    "\n",
    "\n",
    "<h3>Aufgabe: Restklassen</h3>\n",
    "\n",
    "Bestimmen Sie die Restklassen der Kongruenz modulo 3 für die Werte von -5 bis +5 (einschließlich). Bestimmen Sie außerdem die Anzahl der Elemente in $\\mathbb{Z}_3$. Ersetzen Sie dafür den String \"TODO\" im folgenden Feld und ändern Sie sonst nichts."
   ]
  },
  {
   "cell_type": "code",
   "execution_count": null,
   "id": "b1714b3a",
   "metadata": {},
   "outputs": [],
   "source": [
    "restklasse1 == {-4, TODO}\n",
    "restklasse2 == {-3, TODO}\n",
    "restklasse3 == {-5, TODO}\n",
    "Anzahl_Elemente_in_Z3 == TODO"
   ]
  },
  {
   "cell_type": "markdown",
   "id": "13c5f3ac",
   "metadata": {},
   "source": [
    "\n",
    "<br><br><hr style=\"border: 1px dotted blue;\">\n",
    "<h3>Abstimmen: Division?</h3>\n",
    "\n",
    "Was bedeutet $\\frac{1}{6} (mod 5)$\n",
    "<p>\n",
    "\n",
    "<ul>\n",
    "<li> A) Man teilt 1 durch 6 und nimmt das dann modulo 5\n",
    "<li> B) Man berechnet 1 und 6 jeweils modulo 5 und dividiert anschließend\n",
    "<li> C) Man berechnet das multiplikative Inverse von 2 in $Z_5$\n",
    "<li> D) Weder noch\n",
    "</ul>\n",
    "\n",
    "<p>\n",
    "(Anmerkung: $n^{-1} = 1/n$ sind nur unterschiedliche Schreibweisen)"
   ]
  },
  {
   "cell_type": "markdown",
   "id": "fd8a153a",
   "metadata": {},
   "source": [
    "[Abstimmen](https://moodle.ostfalia.de/mod/realtimequiz/view.php?id=244046)"
   ]
  },
  {
   "cell_type": "code",
   "execution_count": null,
   "id": "ac943b97",
   "metadata": {},
   "outputs": [],
   "source": [
    "(1/6) % 5\n",
    "(1%5)/(6%5)\n",
    "multInv(6,5)"
   ]
  },
  {
   "cell_type": "markdown",
   "id": "128c8170",
   "metadata": {},
   "source": [
    "<hr style=\"border: 1px dotted blue;\">\n",
    "\n",
    "<h1>Inverse Elemente</h1>\n",
    "\n",
    "<h3>Aufgabe: Inverse Elemente</h3>\n",
    "\n",
    "Wie berechnet man additive und multiplikative inverse Elemente? Bestimmen Sie einige Werte (zB -4 (mod 5), -4 (mod 4), -4 (mod 3), $2^{-1}$ (mod 5), $2^{-1}$ (mod 4)$, $2^{-1}$ (mod 3)$, $3^{-1}$ (mod 5)). Sie können Ihre Werte mit <b>addInv(4,5), multInv(2,5)</b> usw überprüfen. Beschreiben Sie, wie man die Inversen jeweils bestimmen kann.\n"
   ]
  },
  {
   "cell_type": "code",
   "execution_count": null,
   "id": "3a75fd5c",
   "metadata": {},
   "outputs": [],
   "source": [
    "-4 % 5  \n",
    "-4 % 4 \n",
    "-4 % 3 \n"
   ]
  }
 ],
 "metadata": {
  "kernelspec": {
   "display_name": "Python 3 (ipykernel)",
   "language": "python",
   "name": "python3"
  },
  "language_info": {
   "codemirror_mode": {
    "name": "ipython",
    "version": 3
   },
   "file_extension": ".py",
   "mimetype": "text/x-python",
   "name": "python",
   "nbconvert_exporter": "python",
   "pygments_lexer": "ipython3",
   "version": "3.9.15"
  }
 },
 "nbformat": 4,
 "nbformat_minor": 5
}
